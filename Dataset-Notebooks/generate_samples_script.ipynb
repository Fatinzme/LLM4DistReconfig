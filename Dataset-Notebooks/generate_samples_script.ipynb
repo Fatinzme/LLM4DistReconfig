{
 "cells": [
  {
   "cell_type": "code",
   "execution_count": null,
   "id": "15a9eaa5-68ea-4ede-8500-2892ca3bb459",
   "metadata": {},
   "outputs": [],
   "source": [
    "import torch\n",
    "from datasets import load_dataset, Dataset\n",
    "from peft import LoraConfig, AutoPeftModelForCausalLM\n",
    "from transformers import AutoModelForCausalLM, AutoTokenizer, BitsAndBytesConfig, TrainingArguments\n",
    "from trl import SFTTrainer\n",
    "import os\n",
    "import re\n",
    "import sys"
   ]
  },
  {
   "cell_type": "code",
   "execution_count": null,
   "id": "170a4547-28ef-421c-b250-f8e25316bcac",
   "metadata": {},
   "outputs": [],
   "source": [
    "sys.path.append(os.path.abspath('/path/to/LLM-Reconfiguration/Dataset-Notebooks/utils'))\n",
    "\n",
    "from dataset_utils import prepare_train_data\n",
    "from model_utils import get_model, get_tokenizer\n",
    "from generation_utils import *"
   ]
  },
  {
   "cell_type": "code",
   "execution_count": null,
   "id": "a0228c8e-7aca-441c-a6fb-21057b7bd1b0",
   "metadata": {},
   "outputs": [],
   "source": [
    "from huggingface_hub import login\n",
    "\n",
    "access_token = 'hf_token'\n",
    "login(token=access_token)"
   ]
  },
  {
   "cell_type": "code",
   "execution_count": null,
   "id": "e6634620-65ee-4c0c-9d64-8a56663253e0",
   "metadata": {},
   "outputs": [],
   "source": [
    "os.getcwd()"
   ]
  },
  {
   "cell_type": "code",
   "execution_count": null,
   "id": "cc539791-ca4e-4b9c-82a2-b561108170da",
   "metadata": {},
   "outputs": [],
   "source": [
    "os.cwd /path/to/LLM-Reconfiguration/Dataset-Notebooks"
   ]
  },
  {
   "cell_type": "code",
   "execution_count": null,
   "id": "97683290-0fde-49c5-8f93-08a4b9b61a18",
   "metadata": {},
   "outputs": [],
   "source": [
    "data_path=\"/path/to/LLM-Reconfiguration/Dataset-Notebooks/train_files/train_33_nodes.csv\"\n",
    "model_id=\"/path/to/LLM-Reconfiguration/AutoTrain/model_path\""
   ]
  },
  {
   "cell_type": "code",
   "execution_count": null,
   "id": "081a3a07-ceb3-44ca-92d0-7003a9a6e2ad",
   "metadata": {},
   "outputs": [],
   "source": [
    "train_dataset, validation_dataset, test_dataset = prepare_train_data(data_path)"
   ]
  },
  {
   "cell_type": "code",
   "execution_count": null,
   "id": "e4595e69-554e-4582-be7e-c8999309cf20",
   "metadata": {},
   "outputs": [],
   "source": [
    "model = get_model(model_id)\n",
    "tokenizer = get_tokenizer(model_id)"
   ]
  },
  {
   "cell_type": "code",
   "execution_count": null,
   "id": "e481a82f-e565-48cf-a87a-106b39c0f965",
   "metadata": {},
   "outputs": [],
   "source": [
    "peft_config = LoraConfig(\n",
    "        r=8, lora_alpha=16, lora_dropout=0.05, bias=\"none\", task_type=\"CAUSAL_LM\"\n",
    "    )"
   ]
  },
  {
   "cell_type": "code",
   "execution_count": null,
   "id": "32bf58e8-381f-4101-939d-9880376a1966",
   "metadata": {},
   "outputs": [],
   "source": [
    "model_path = \"/path/to/LLM-Reconfiguration/AutoTrain/llama2/llama2-grid-reconfiguration-10epoch-RP-AP5-84N-IEL-SUL-CYL/checkpoint-14600\"\n",
    "\n",
    "model = peft_merge_unload(model_id, model_path)"
   ]
  },
  {
   "cell_type": "code",
   "execution_count": null,
   "id": "2888942b-964f-4de7-8153-0af0e2074232",
   "metadata": {},
   "outputs": [],
   "source": [
    "# generate_response(user_input=test_dataset['prompt'][0], model=model, tokenizer=tokenizer)"
   ]
  },
  {
   "cell_type": "code",
   "execution_count": null,
   "id": "fd882950-4a23-4392-9100-8e34a4885c76",
   "metadata": {},
   "outputs": [],
   "source": [
    "from functools import partial\n",
    "\n",
    "# Create a partial function with fixed model and tokenizer\n",
    "partial_generate_response = partial(generate_response, model=model, tokenizer=tokenizer, max_new_tokens=900)"
   ]
  },
  {
   "cell_type": "code",
   "execution_count": null,
   "id": "acbbbb36-1cea-421a-9491-8fe3de43bf31",
   "metadata": {},
   "outputs": [],
   "source": [
    "generate_and_save_responses(test_dataset, partial_generate_response, num_samples=10, filename=\"/path/to/LLM-Reconfiguration/Dataset-Notebooks/generated_samples/model_id-#samples.txt\")"
   ]
  },
  {
   "cell_type": "code",
   "execution_count": null,
   "id": "7ace23af-b58a-40c3-83d4-80a99cdf2e3f",
   "metadata": {},
   "outputs": [],
   "source": []
  }
 ],
 "metadata": {
  "kernelspec": {
   "display_name": "my_env",
   "language": "python",
   "name": "my_env"
  },
  "language_info": {
   "codemirror_mode": {
    "name": "ipython",
    "version": 3
   },
   "file_extension": ".py",
   "mimetype": "text/x-python",
   "name": "python",
   "nbconvert_exporter": "python",
   "pygments_lexer": "ipython3",
   "version": "3.12.3"
  }
 },
 "nbformat": 4,
 "nbformat_minor": 5
}
