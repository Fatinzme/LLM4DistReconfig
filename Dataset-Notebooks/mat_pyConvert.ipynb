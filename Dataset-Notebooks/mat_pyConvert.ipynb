{
 "cells": [
  {
   "cell_type": "code",
   "execution_count": null,
   "metadata": {
    "colab": {
     "base_uri": "https://localhost:8080/"
    },
    "executionInfo": {
     "elapsed": 19515,
     "status": "ok",
     "timestamp": 1716555805703,
     "user": {
      "displayName": "Panayiotis Christou",
      "userId": "08170992695377941087"
     },
     "user_tz": 240
    },
    "id": "vP03AZAUsh2v",
    "outputId": "d6677c8b-2dbe-4b3e-9da7-07634170bb03"
   },
   "outputs": [],
   "source": [
    "from google.colab import drive\n",
    "drive.mount('/content/drive')"
   ]
  },
  {
   "cell_type": "code",
   "execution_count": null,
   "metadata": {
    "id": "kTViZRUFsTcw"
   },
   "outputs": [],
   "source": [
    "import scipy.io\n",
    "import pandas as pd\n",
    "import numpy as np\n",
    "\n",
    "# Load the MATLAB file\n",
    "mat_data = scipy.io.loadmat('path/to/your/file.mat')\n",
    "\n",
    "# Access the cell array\n",
    "cell_array = mat_data['samples_#bus'] # Get the cell array of the samples of the # (33, 69, etc.) buses dataset\n",
    "\n",
    "# Extract the column headers\n",
    "column_headers = cell_array[0, :]\n"
   ]
  },
  {
   "cell_type": "code",
   "execution_count": null,
   "metadata": {
    "id": "luixrrY6sTcx"
   },
   "outputs": [],
   "source": [
    "column_headers = ['buses','lines', 'line_impedances','cur_config' ,'cur_connectivity','cur_volt',\n",
    "    'cur_loss','upd_config', 'upd_connectivity','upd_volt','upd_loss']\n"
   ]
  },
  {
   "cell_type": "code",
   "execution_count": null,
   "metadata": {
    "colab": {
     "base_uri": "https://localhost:8080/"
    },
    "executionInfo": {
     "elapsed": 111,
     "status": "ok",
     "timestamp": 1716555856700,
     "user": {
      "displayName": "Panayiotis Christou",
      "userId": "08170992695377941087"
     },
     "user_tz": 240
    },
    "id": "IWskqaj9sTcx",
    "outputId": "dc3fd8e0-8cd2-4f0e-fbff-bd70c7e55939"
   },
   "outputs": [],
   "source": [
    "cell_array[1:, :].shape"
   ]
  },
  {
   "cell_type": "code",
   "execution_count": null,
   "metadata": {
    "colab": {
     "base_uri": "https://localhost:8080/"
    },
    "executionInfo": {
     "elapsed": 6663,
     "status": "ok",
     "timestamp": 1716555874974,
     "user": {
      "displayName": "Panayiotis Christou",
      "userId": "08170992695377941087"
     },
     "user_tz": 240
    },
    "id": "8hdqLZYHsTcy",
    "outputId": "8aea5ba2-fb8c-420a-e15e-b9e010fdf302"
   },
   "outputs": [],
   "source": [
    "\n",
    "# Initialize a list to hold the data rows\n",
    "data_rows = []\n",
    "\n",
    "# Iterate over the rows of the cell array starting from the second row\n",
    "for row in cell_array[1:, :]:\n",
    "    data_row = []\n",
    "    for item in row:\n",
    "        # Convert MATLAB cell array elements to appropriate Python types\n",
    "        if isinstance(item, np.ndarray):\n",
    "            if item.size == 1:\n",
    "                data_row.append(item.item())\n",
    "            else:\n",
    "                data_row.append(item.tolist())\n",
    "        else:\n",
    "            data_row.append(item)\n",
    "    data_rows.append(data_row)\n",
    "\n",
    "# Create a DataFrame\n",
    "df = pd.DataFrame(data_rows, columns=column_headers)\n",
    "\n",
    "# Display the DataFrame\n",
    "print(df.head())\n"
   ]
  },
  {
   "cell_type": "code",
   "execution_count": null,
   "metadata": {
    "id": "yGRTWIVX3dSU"
   },
   "outputs": [],
   "source": [
    "for column in df.columns:\n",
    "    if column == 'existing_system_loss' or column == 'updated_system_loss':\n",
    "        continue\n",
    "    shape = np.shape(df[column][0])\n",
    "    if len(shape) > 1:\n",
    "        if shape[1] == 1:\n",
    "            df[column] = df[column].apply(lambda x: [item for sublist in x for item in sublist])\n",
    "        elif shape[1] == 2:\n",
    "            df[column] = df[column].apply(lambda x: [tuple(sublist) for sublist in x])"
   ]
  },
  {
   "cell_type": "code",
   "execution_count": null,
   "metadata": {
    "id": "yST6Pg-lsTcy"
   },
   "outputs": [],
   "source": [
    "df.to_csv('path/to/your/csvfile.csv')"
   ]
  }
 ],
 "metadata": {
  "colab": {
   "provenance": []
  },
  "kernelspec": {
   "display_name": "Python 3 (ipykernel)",
   "language": "python",
   "name": "python3"
  },
  "language_info": {
   "codemirror_mode": {
    "name": "ipython",
    "version": 3
   },
   "file_extension": ".py",
   "mimetype": "text/x-python",
   "name": "python",
   "nbconvert_exporter": "python",
   "pygments_lexer": "ipython3",
   "version": "3.11.7"
  }
 },
 "nbformat": 4,
 "nbformat_minor": 4
}
